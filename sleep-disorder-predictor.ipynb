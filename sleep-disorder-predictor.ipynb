{
 "cells": [
  {
   "cell_type": "code",
   "execution_count": null,
   "metadata": {},
   "outputs": [],
   "source": [
    "import pandas as pd\n",
    "import numpy as np\n",
    "import matplotlib.pyplot as plt\n",
    "import seaborn as sns\n",
    "from sklearn.neighbors import KNeighborsClassifier\n",
    "from sklearn.model_selection import train_test_split\n",
    "from sklearn.preprocessing import StandardScaler, LabelEncoder\n",
    "from sklearn.metrics import classification_report, accuracy_score, confusion_matrix"
   ]
  },
  {
   "cell_type": "code",
   "execution_count": null,
   "metadata": {},
   "outputs": [],
   "source": [
    "df = pd.read_csv('Sleep_health_and_lifestyle_dataset.csv')\n",
    "df[['Systolic_BP', 'Diastolic_BP']] = df['Blood Pressure'].str.split('/', expand=True).astype(int)\n",
    "df = df.drop(['Person ID', 'Occupation', 'Blood Pressure'], axis=1)\n",
    "print(\"Missing values:\\n\", df.isnull().sum())"
   ]
  },
  {
   "cell_type": "code",
   "execution_count": null,
   "metadata": {},
   "outputs": [],
   "source": [
    "le = LabelEncoder()\n",
    "df['Gender'] = le.fit_transform(df['Gender'])\n",
    "df['BMI Category'] = le.fit_transform(df['BMI Category'])\n",
    "df['Sleep Disorder'] = le.fit_transform(df['Sleep Disorder'])"
   ]
  },
  {
   "cell_type": "code",
   "execution_count": null,
   "metadata": {},
   "outputs": [],
   "source": [
    "X = df.drop('Sleep Disorder', axis=1)\n",
    "y = df['Sleep Disorder']\n",
    "\n",
    "scaler = StandardScaler()\n",
    "X_scaled = scaler.fit_transform(X)\n",
    "\n",
    "X_train, X_test, y_train, y_test = train_test_split(X_scaled, y, test_size=0.2, random_state=42)"
   ]
  },
  {
   "cell_type": "code",
   "execution_count": null,
   "metadata": {},
   "outputs": [],
   "source": [
    "knn = KNeighborsClassifier(n_neighbors=3)\n",
    "knn.fit(X_train, y_train)\n",
    "\n",
    "y_pred = knn.predict(X_test)\n",
    "\n",
    "print(\"\\nAccuracy Score:\", accuracy_score(y_test, y_pred))\n",
    "print(\"\\nClassification Report:\\n\", classification_report(y_test, y_pred))"
   ]
  },
  {
   "cell_type": "code",
   "execution_count": null,
   "metadata": {},
   "outputs": [],
   "source": [
    "cm = confusion_matrix(y_test, y_pred)\n",
    "plt.figure(figsize=(8, 6))\n",
    "sns.heatmap(cm, annot=True, fmt='d', cmap='Blues')\n",
    "plt.title('Confusion Matrix')\n",
    "plt.ylabel('True Label')\n",
    "plt.xlabel('Predicted Label')\n",
    "plt.show()"
   ]
  },
  {
   "cell_type": "code",
   "execution_count": null,
   "metadata": {},
   "outputs": [],
   "source": [
    "sample_input = {\n",
    "    'Gender': 'Male',\n",
    "    'Age': 35,\n",
    "    'Sleep Duration': 7.5,\n",
    "    'Quality of Sleep': 8,\n",
    "    'Physical Activity Level': 60,\n",
    "    'Stress Level': 5,\n",
    "    'BMI Category': 'Normal',\n",
    "    'Heart Rate': 70,\n",
    "    'Daily Steps': 8000,\n",
    "    'Systolic_BP': 120,\n",
    "    'Diastolic_BP': 80\n",
    "}\n",
    "\n",
    "sample_df = pd.DataFrame([sample_input])\n",
    "sample_df['Gender'] = le.fit_transform(sample_df['Gender'])\n",
    "sample_df['BMI Category'] = le.fit_transform(sample_df['BMI Category'])\n",
    "\n",
    "sample_scaled = scaler.transform(sample_df)\n",
    "\n",
    "prediction = knn.predict(sample_scaled)\n",
    "prediction_proba = knn.predict_proba(sample_scaled)\n",
    "\n",
    "class_names = le.classes_\n",
    "\n",
    "print(\"\\nPredicted Sleep Disorder:\", class_names[prediction[0]])\n",
    "print(\"Prediction Probabilities:\", dict(zip(class_names, prediction_proba[0])))"
   ]
  }
 ],
 "metadata": {
  "kernelspec": {
   "display_name": ".venv",
   "language": "python",
   "name": "python3"
  },
  "language_info": {
   "name": "python",
   "version": "3.12.10"
  }
 },
 "nbformat": 4,
 "nbformat_minor": 2
}
